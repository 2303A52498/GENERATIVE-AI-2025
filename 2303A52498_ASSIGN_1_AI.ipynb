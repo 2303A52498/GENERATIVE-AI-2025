{
  "nbformat": 4,
  "nbformat_minor": 0,
  "metadata": {
    "colab": {
      "provenance": [],
      "toc_visible": true
    },
    "kernelspec": {
      "name": "python3",
      "display_name": "Python 3"
    },
    "language_info": {
      "name": "python"
    }
  },
  "cells": [
    {
      "cell_type": "markdown",
      "source": [
        "# **QUESTION - 1**"
      ],
      "metadata": {
        "id": "xER51Nnjt3hu"
      }
    },
    {
      "cell_type": "code",
      "execution_count": 1,
      "metadata": {
        "id": "5Qk5OZ4XsPPx"
      },
      "outputs": [],
      "source": [
        "import numpy as np\n",
        "from sklearn.metrics import mean_squared_error, mean_absolute_error, r2_score\n",
        "y_act=np.array([20,30,40,50,60])\n",
        "y_pred=np.array([20.5,30.3,40.2,50.6,60.7])"
      ]
    },
    {
      "cell_type": "code",
      "source": [
        "# Mean Absolute Error (MAE)\n",
        "mae = np.mean(np.abs(y_act - y_pred))\n",
        "print(f\"Mean Absolute Error (MAE): {mae}\")"
      ],
      "metadata": {
        "colab": {
          "base_uri": "https://localhost:8080/"
        },
        "id": "x47IBijVuU0O",
        "outputId": "7b703ff4-7ed7-435b-c9e5-1a95bbbd5784"
      },
      "execution_count": 2,
      "outputs": [
        {
          "output_type": "stream",
          "name": "stdout",
          "text": [
            "Mean Absolute Error (MAE): 0.4600000000000016\n"
          ]
        }
      ]
    },
    {
      "cell_type": "code",
      "source": [
        "mse = np.mean((y_act - y_pred) ** 2)\n",
        "print(f\"Mean Squared Error (MSE): {mse}\")"
      ],
      "metadata": {
        "colab": {
          "base_uri": "https://localhost:8080/"
        },
        "id": "QTLY_3ItuXUZ",
        "outputId": "01d60e02-03d9-4dac-94f8-ba407bbebf6a"
      },
      "execution_count": 3,
      "outputs": [
        {
          "output_type": "stream",
          "name": "stdout",
          "text": [
            "Mean Squared Error (MSE): 0.24600000000000147\n"
          ]
        }
      ]
    },
    {
      "cell_type": "code",
      "source": [
        "# Root Mean Square Error (RMSE)\n",
        "rmse = np.sqrt(mse)\n",
        "print(f\"Root Mean Square Error (RMSE): {rmse}\")"
      ],
      "metadata": {
        "colab": {
          "base_uri": "https://localhost:8080/"
        },
        "id": "jXmGwwnRudD9",
        "outputId": "69a3380a-4338-4198-dfe4-4e97c6ce139e"
      },
      "execution_count": 4,
      "outputs": [
        {
          "output_type": "stream",
          "name": "stdout",
          "text": [
            "Root Mean Square Error (RMSE): 0.49598387070549127\n"
          ]
        }
      ]
    },
    {
      "cell_type": "code",
      "source": [
        "# Mean Absolute Percentage Error (MAPE)\n",
        "mape = np.mean(np.abs((y_act - y_pred) / y_act)) * 100\n",
        "print(f\"Mean Absolute Percentage Error (MAPE): {mape}\")"
      ],
      "metadata": {
        "colab": {
          "base_uri": "https://localhost:8080/"
        },
        "id": "uWhvtycnugEa",
        "outputId": "ab72c169-fccf-4db3-ed5c-b4b3263c0ce9"
      },
      "execution_count": 5,
      "outputs": [
        {
          "output_type": "stream",
          "name": "stdout",
          "text": [
            "Mean Absolute Percentage Error (MAPE): 1.273333333333337\n"
          ]
        }
      ]
    },
    {
      "cell_type": "code",
      "source": [
        "#R square value\n",
        "r2 = r2_score(y_act, y_pred)\n",
        "print(f\"R-squared (R2): {r2}\")"
      ],
      "metadata": {
        "colab": {
          "base_uri": "https://localhost:8080/"
        },
        "id": "svfnJJnpum3N",
        "outputId": "08293442-c771-49ac-9095-1c15ad55af34"
      },
      "execution_count": 6,
      "outputs": [
        {
          "output_type": "stream",
          "name": "stdout",
          "text": [
            "R-squared (R2): 0.99877\n"
          ]
        }
      ]
    },
    {
      "cell_type": "markdown",
      "source": [
        "# **QUESTION - 2**"
      ],
      "metadata": {
        "id": "bW6844kCus4k"
      }
    },
    {
      "cell_type": "code",
      "source": [
        "y_act1=np.array([0,0,0,0,0])\n",
        "y_pred1=np.array([0,0,1,2,2])"
      ],
      "metadata": {
        "id": "qpYx64scuyqt"
      },
      "execution_count": 7,
      "outputs": []
    },
    {
      "cell_type": "code",
      "source": [
        "# Mean Squared Error (MSE)\n",
        "mse1 = mean_squared_error(y_act1, y_pred1)\n",
        "print(f\"Mean Squared Error (MSE): {mse1}\")"
      ],
      "metadata": {
        "colab": {
          "base_uri": "https://localhost:8080/"
        },
        "id": "iydbyvQgu4RQ",
        "outputId": "b00834d0-fb38-4188-bc9e-c14ee8408084"
      },
      "execution_count": 8,
      "outputs": [
        {
          "output_type": "stream",
          "name": "stdout",
          "text": [
            "Mean Squared Error (MSE): 1.8\n"
          ]
        }
      ]
    },
    {
      "cell_type": "code",
      "source": [
        "# Root Mean Square Error (RMSE)\n",
        "rmse1 = np.sqrt(mse1)\n",
        "print(f\"Root Mean Square Error (RMSE): {rmse1}\")"
      ],
      "metadata": {
        "colab": {
          "base_uri": "https://localhost:8080/"
        },
        "id": "4Jez6gZau7JQ",
        "outputId": "0072cf63-507f-477a-ac42-9adf863280b0"
      },
      "execution_count": 9,
      "outputs": [
        {
          "output_type": "stream",
          "name": "stdout",
          "text": [
            "Root Mean Square Error (RMSE): 1.3416407864998738\n"
          ]
        }
      ]
    },
    {
      "cell_type": "code",
      "source": [
        "mae1 = mean_absolute_error(y_act1, y_pred1)\n",
        "print(f\"Mean Absolute Error (MAE): {mae1}\")"
      ],
      "metadata": {
        "colab": {
          "base_uri": "https://localhost:8080/"
        },
        "id": "KFTduHmXvBs0",
        "outputId": "ed3c3e36-5f08-4f6f-ced1-919851d9ad47"
      },
      "execution_count": 10,
      "outputs": [
        {
          "output_type": "stream",
          "name": "stdout",
          "text": [
            "Mean Absolute Error (MAE): 1.0\n"
          ]
        }
      ]
    },
    {
      "cell_type": "code",
      "source": [
        "# R-squared (R2) value\n",
        "r2_1 = r2_score(y_act1, y_pred1)\n",
        "print(f\"R-squared (R2): {r2_1}\")"
      ],
      "metadata": {
        "colab": {
          "base_uri": "https://localhost:8080/"
        },
        "id": "dwnpt-w8vELn",
        "outputId": "ba9c0008-c3c9-4ec2-bb49-8a4032769ded"
      },
      "execution_count": 11,
      "outputs": [
        {
          "output_type": "stream",
          "name": "stdout",
          "text": [
            "R-squared (R2): 0.0\n"
          ]
        }
      ]
    }
  ]
}